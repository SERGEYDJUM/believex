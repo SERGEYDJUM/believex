{
  "nbformat": 4,
  "nbformat_minor": 0,
  "metadata": {
    "colab": {
      "provenance": [],
      "authorship_tag": "ABX9TyP28ccMbHnAFvmozzhNQjJK",
      "include_colab_link": true
    },
    "kernelspec": {
      "name": "python3",
      "display_name": "Python 3"
    },
    "language_info": {
      "name": "python"
    }
  },
  "cells": [
    {
      "cell_type": "markdown",
      "metadata": {
        "id": "view-in-github",
        "colab_type": "text"
      },
      "source": [
        "<a href=\"https://colab.research.google.com/github/SERGEYDJUM/believex/blob/main/KNN_onnx_2h_HF.ipynb\" target=\"_parent\"><img src=\"https://colab.research.google.com/assets/colab-badge.svg\" alt=\"Open In Colab\"/></a>"
      ]
    },
    {
      "cell_type": "markdown",
      "source": [
        "***Мужчины и женщины чере 2 часа. Параметр HF***"
      ],
      "metadata": {
        "id": "3sut-DZTABOs"
      }
    },
    {
      "cell_type": "code",
      "execution_count": null,
      "metadata": {
        "colab": {
          "base_uri": "https://localhost:8080/"
        },
        "id": "qegBWrF4_yTJ",
        "outputId": "945ef85e-6469-4bbc-a5c5-2d8a57099938"
      },
      "outputs": [
        {
          "output_type": "stream",
          "name": "stdout",
          "text": [
            "Requirement already satisfied: skl2onnx in /usr/local/lib/python3.10/dist-packages (1.17.0)\n",
            "Requirement already satisfied: onnxruntime in /usr/local/lib/python3.10/dist-packages (1.18.1)\n",
            "Requirement already satisfied: onnx>=1.2.1 in /usr/local/lib/python3.10/dist-packages (from skl2onnx) (1.16.1)\n",
            "Requirement already satisfied: scikit-learn>=1.1 in /usr/local/lib/python3.10/dist-packages (from skl2onnx) (1.2.2)\n",
            "Requirement already satisfied: onnxconverter-common>=1.7.0 in /usr/local/lib/python3.10/dist-packages (from skl2onnx) (1.14.0)\n",
            "Requirement already satisfied: coloredlogs in /usr/local/lib/python3.10/dist-packages (from onnxruntime) (15.0.1)\n",
            "Requirement already satisfied: flatbuffers in /usr/local/lib/python3.10/dist-packages (from onnxruntime) (24.3.25)\n",
            "Requirement already satisfied: numpy<2.0,>=1.21.6 in /usr/local/lib/python3.10/dist-packages (from onnxruntime) (1.25.2)\n",
            "Requirement already satisfied: packaging in /usr/local/lib/python3.10/dist-packages (from onnxruntime) (24.1)\n",
            "Requirement already satisfied: protobuf in /usr/local/lib/python3.10/dist-packages (from onnxruntime) (3.20.2)\n",
            "Requirement already satisfied: sympy in /usr/local/lib/python3.10/dist-packages (from onnxruntime) (1.12.1)\n",
            "Requirement already satisfied: scipy>=1.3.2 in /usr/local/lib/python3.10/dist-packages (from scikit-learn>=1.1->skl2onnx) (1.11.4)\n",
            "Requirement already satisfied: joblib>=1.1.1 in /usr/local/lib/python3.10/dist-packages (from scikit-learn>=1.1->skl2onnx) (1.4.2)\n",
            "Requirement already satisfied: threadpoolctl>=2.0.0 in /usr/local/lib/python3.10/dist-packages (from scikit-learn>=1.1->skl2onnx) (3.5.0)\n",
            "Requirement already satisfied: humanfriendly>=9.1 in /usr/local/lib/python3.10/dist-packages (from coloredlogs->onnxruntime) (10.0)\n",
            "Requirement already satisfied: mpmath<1.4.0,>=1.1.0 in /usr/local/lib/python3.10/dist-packages (from sympy->onnxruntime) (1.3.0)\n"
          ]
        }
      ],
      "source": [
        "pip install skl2onnx onnxruntime"
      ]
    },
    {
      "cell_type": "code",
      "source": [
        "import pandas as pd\n",
        "import numpy as np\n",
        "from sklearn.model_selection import train_test_split\n",
        "from sklearn.preprocessing import StandardScaler\n",
        "from sklearn.neighbors import KNeighborsRegressor\n",
        "from sklearn.metrics import mean_squared_error, mean_absolute_error\n",
        "import skl2onnx\n",
        "from skl2onnx import convert_sklearn\n",
        "from skl2onnx.common.data_types import FloatTensorType\n",
        "import onnxruntime as rt\n",
        "df = pd.read_csv('working.csv')"
      ],
      "metadata": {
        "id": "pn-sRIbMAJ6W"
      },
      "execution_count": null,
      "outputs": []
    },
    {
      "cell_type": "code",
      "source": [
        "df_male_adults = df[(df['sex'] == 0) & (df['age'] >= 18)].dropna(subset=['HF_a'])\n",
        "#df_male_child = df[(df['sex'] == 0) & (df['age'] < 18)].dropna(subset=['LF_l'])\n",
        "df_female_adults = df[(df['sex'] == 1) & (df['age'] >= 18)].dropna(subset=['HF_a'])\n",
        "#df_female_child = df[(df['sex'] == 1) & (df['age'] < 18)].dropna(subset=['LF_l'])"
      ],
      "metadata": {
        "id": "W9M3o2x7Ayl2"
      },
      "execution_count": null,
      "outputs": []
    },
    {
      "cell_type": "code",
      "source": [
        "def prepare_data(df, test_size=0.1, random_state=100):\n",
        "    X = df[['LF_b', 'HF_b']]\n",
        "    y = df['HF_a']\n",
        "    X_train, X_test, y_train, y_test = train_test_split(X, y, test_size=test_size, random_state=random_state)\n",
        "    scaler = StandardScaler()\n",
        "    X_train_scaled = scaler.fit_transform(X_train)\n",
        "    X_test_scaled = scaler.transform(X_test)\n",
        "    return X_train_scaled, X_test_scaled, y_train, y_test"
      ],
      "metadata": {
        "id": "gyOJY6xYCVJr"
      },
      "execution_count": null,
      "outputs": []
    },
    {
      "cell_type": "code",
      "source": [
        "X_train_male_adults, X_test_male_adults, y_train_male_adults, y_test_male_adults = prepare_data(df_male_adults, test_size=0.01, random_state=100)\n",
        "#X_train_male_child, X_test_male_child, y_train_male_child, y_test_male_child = prepare_data(df_male_child, test_size=0.2, random_state=100)\n",
        "X_train_female_adults, X_test_female_adults, y_train_female_adults, y_test_female_adults = prepare_data(df_female_adults, test_size=0.1, random_state=100)\n",
        "#X_train_female_child, X_test_female_child, y_train_female_child, y_test_female_child = prepare_data(df_female_child, test_size=0.2, random_state=42)"
      ],
      "metadata": {
        "id": "WjmL1-1xC0Us"
      },
      "execution_count": null,
      "outputs": []
    },
    {
      "cell_type": "code",
      "source": [
        "# Обучение моделей KNN для каждой группы\n",
        "knn_male_adults_lf_2h = KNeighborsRegressor(n_neighbors=5, metric='manhattan')\n",
        "knn_male_adults_lf_2h.fit(X_train_male_adults, y_train_male_adults)\n",
        "\n",
        "#knn_male_child = KNeighborsRegressor(n_neighbors=5, metric='euclidean', weights='uniform')\n",
        "#knn_male_child.fit(X_train_male_child, y_train_male_child)\n",
        "\n",
        "knn_female_adults_lf_2h = KNeighborsRegressor(n_neighbors=3, weights='distance',metric='euclidean')\n",
        "knn_female_adults_lf_2h.fit(X_train_female_adults, y_train_female_adults)\n",
        "\n",
        "#knn_female_child = KNeighborsRegressor(n_neighbors=3, weights='distance', metric='manhattan')\n",
        "#knn_female_child.fit(X_train_female_child, y_train_female_child)"
      ],
      "metadata": {
        "colab": {
          "base_uri": "https://localhost:8080/",
          "height": 74
        },
        "id": "4MsLX-30C2xi",
        "outputId": "df3c6055-aef9-4946-d4a0-a01cd30dd889"
      },
      "execution_count": null,
      "outputs": [
        {
          "output_type": "execute_result",
          "data": {
            "text/plain": [
              "KNeighborsRegressor(metric='euclidean', n_neighbors=3, weights='distance')"
            ],
            "text/html": [
              "<style>#sk-container-id-4 {color: black;background-color: white;}#sk-container-id-4 pre{padding: 0;}#sk-container-id-4 div.sk-toggleable {background-color: white;}#sk-container-id-4 label.sk-toggleable__label {cursor: pointer;display: block;width: 100%;margin-bottom: 0;padding: 0.3em;box-sizing: border-box;text-align: center;}#sk-container-id-4 label.sk-toggleable__label-arrow:before {content: \"▸\";float: left;margin-right: 0.25em;color: #696969;}#sk-container-id-4 label.sk-toggleable__label-arrow:hover:before {color: black;}#sk-container-id-4 div.sk-estimator:hover label.sk-toggleable__label-arrow:before {color: black;}#sk-container-id-4 div.sk-toggleable__content {max-height: 0;max-width: 0;overflow: hidden;text-align: left;background-color: #f0f8ff;}#sk-container-id-4 div.sk-toggleable__content pre {margin: 0.2em;color: black;border-radius: 0.25em;background-color: #f0f8ff;}#sk-container-id-4 input.sk-toggleable__control:checked~div.sk-toggleable__content {max-height: 200px;max-width: 100%;overflow: auto;}#sk-container-id-4 input.sk-toggleable__control:checked~label.sk-toggleable__label-arrow:before {content: \"▾\";}#sk-container-id-4 div.sk-estimator input.sk-toggleable__control:checked~label.sk-toggleable__label {background-color: #d4ebff;}#sk-container-id-4 div.sk-label input.sk-toggleable__control:checked~label.sk-toggleable__label {background-color: #d4ebff;}#sk-container-id-4 input.sk-hidden--visually {border: 0;clip: rect(1px 1px 1px 1px);clip: rect(1px, 1px, 1px, 1px);height: 1px;margin: -1px;overflow: hidden;padding: 0;position: absolute;width: 1px;}#sk-container-id-4 div.sk-estimator {font-family: monospace;background-color: #f0f8ff;border: 1px dotted black;border-radius: 0.25em;box-sizing: border-box;margin-bottom: 0.5em;}#sk-container-id-4 div.sk-estimator:hover {background-color: #d4ebff;}#sk-container-id-4 div.sk-parallel-item::after {content: \"\";width: 100%;border-bottom: 1px solid gray;flex-grow: 1;}#sk-container-id-4 div.sk-label:hover label.sk-toggleable__label {background-color: #d4ebff;}#sk-container-id-4 div.sk-serial::before {content: \"\";position: absolute;border-left: 1px solid gray;box-sizing: border-box;top: 0;bottom: 0;left: 50%;z-index: 0;}#sk-container-id-4 div.sk-serial {display: flex;flex-direction: column;align-items: center;background-color: white;padding-right: 0.2em;padding-left: 0.2em;position: relative;}#sk-container-id-4 div.sk-item {position: relative;z-index: 1;}#sk-container-id-4 div.sk-parallel {display: flex;align-items: stretch;justify-content: center;background-color: white;position: relative;}#sk-container-id-4 div.sk-item::before, #sk-container-id-4 div.sk-parallel-item::before {content: \"\";position: absolute;border-left: 1px solid gray;box-sizing: border-box;top: 0;bottom: 0;left: 50%;z-index: -1;}#sk-container-id-4 div.sk-parallel-item {display: flex;flex-direction: column;z-index: 1;position: relative;background-color: white;}#sk-container-id-4 div.sk-parallel-item:first-child::after {align-self: flex-end;width: 50%;}#sk-container-id-4 div.sk-parallel-item:last-child::after {align-self: flex-start;width: 50%;}#sk-container-id-4 div.sk-parallel-item:only-child::after {width: 0;}#sk-container-id-4 div.sk-dashed-wrapped {border: 1px dashed gray;margin: 0 0.4em 0.5em 0.4em;box-sizing: border-box;padding-bottom: 0.4em;background-color: white;}#sk-container-id-4 div.sk-label label {font-family: monospace;font-weight: bold;display: inline-block;line-height: 1.2em;}#sk-container-id-4 div.sk-label-container {text-align: center;}#sk-container-id-4 div.sk-container {/* jupyter's `normalize.less` sets `[hidden] { display: none; }` but bootstrap.min.css set `[hidden] { display: none !important; }` so we also need the `!important` here to be able to override the default hidden behavior on the sphinx rendered scikit-learn.org. See: https://github.com/scikit-learn/scikit-learn/issues/21755 */display: inline-block !important;position: relative;}#sk-container-id-4 div.sk-text-repr-fallback {display: none;}</style><div id=\"sk-container-id-4\" class=\"sk-top-container\"><div class=\"sk-text-repr-fallback\"><pre>KNeighborsRegressor(metric=&#x27;euclidean&#x27;, n_neighbors=3, weights=&#x27;distance&#x27;)</pre><b>In a Jupyter environment, please rerun this cell to show the HTML representation or trust the notebook. <br />On GitHub, the HTML representation is unable to render, please try loading this page with nbviewer.org.</b></div><div class=\"sk-container\" hidden><div class=\"sk-item\"><div class=\"sk-estimator sk-toggleable\"><input class=\"sk-toggleable__control sk-hidden--visually\" id=\"sk-estimator-id-4\" type=\"checkbox\" checked><label for=\"sk-estimator-id-4\" class=\"sk-toggleable__label sk-toggleable__label-arrow\">KNeighborsRegressor</label><div class=\"sk-toggleable__content\"><pre>KNeighborsRegressor(metric=&#x27;euclidean&#x27;, n_neighbors=3, weights=&#x27;distance&#x27;)</pre></div></div></div></div></div>"
            ]
          },
          "metadata": {},
          "execution_count": 44
        }
      ]
    },
    {
      "cell_type": "code",
      "source": [
        "def convert_to_onnx(model, model_name):\n",
        "    initial_type = [('float_input', FloatTensorType([-1, 2]))]\n",
        "    onnx_model = convert_sklearn(model, initial_types=initial_type)\n",
        "    with open(model_name, \"wb\") as f:\n",
        "        f.write(onnx_model.SerializeToString())"
      ],
      "metadata": {
        "id": "yg24RHQrC44A"
      },
      "execution_count": null,
      "outputs": []
    },
    {
      "cell_type": "code",
      "source": [
        "convert_to_onnx(knn_male_adults_lf_2h, \"knn_male_adults_hf_2h.onnx\")\n",
        "#convert_to_onnx(knn_male_child, \"knn_male_child.onnx\")\n",
        "convert_to_onnx(knn_female_adults_lf_2h, \"knn_female_adults_hf_2h.onnx\")\n",
        "#convert_to_onnx(knn_female_child, \"knn_female_child.onnx\")"
      ],
      "metadata": {
        "id": "XIXHWyfPC-HO"
      },
      "execution_count": null,
      "outputs": []
    },
    {
      "cell_type": "code",
      "source": [
        "def predict_with_onnx(model_path, X_test):\n",
        "    sess = rt.InferenceSession(model_path)\n",
        "    input_name = sess.get_inputs()[0].name\n",
        "    label_name = sess.get_outputs()[0].name\n",
        "    # Подаем входные данные в виде словаря\n",
        "    pred_onx = sess.run([label_name], {input_name: X_test.astype(np.float32)})[0]\n",
        "    return pred_onx"
      ],
      "metadata": {
        "id": "MsyjhwqzDCQJ"
      },
      "execution_count": null,
      "outputs": []
    },
    {
      "cell_type": "code",
      "source": [
        "y_pred_male_adults = predict_with_onnx(\"knn_male_adults_hf_2h.onnx\", X_test_male_adults)\n",
        "#y_pred_male_child = predict_with_onnx(\"knn_male_child.onnx\", X_test_male_child)\n",
        "y_pred_female_adults = predict_with_onnx(\"knn_female_adults_hf_2h.onnx\", X_test_female_adults)\n",
        "#y_pred_female_child = predict_with_onnx(\"knn_female_child.onnx\", X_test_female_child)"
      ],
      "metadata": {
        "id": "jK7lczFDDEne"
      },
      "execution_count": null,
      "outputs": []
    },
    {
      "cell_type": "code",
      "source": [
        "mean_male_adults = df_male_adults['HF_a'].mean()\n",
        "#mean_male_child = df_male_child['LF_l'].mean()\n",
        "mean_female_adults = df_female_adults['HF_a'].mean()\n",
        "#mean_female_child = df_female_child['LF_l'].mean()\n",
        "print(f'Mean for men: {mean_male_adults}')\n",
        "#print(f'Mean for boys: {mean_male_child}')\n",
        "print(f'Mean for women: {mean_female_adults}')\n",
        "#print(f'Mean for girls: {mean_female_child}')"
      ],
      "metadata": {
        "colab": {
          "base_uri": "https://localhost:8080/"
        },
        "id": "kwYrl2SfDIdo",
        "outputId": "fac29ad0-68ef-4f59-ef29-0af412f325ae"
      },
      "execution_count": null,
      "outputs": [
        {
          "output_type": "stream",
          "name": "stdout",
          "text": [
            "Mean for men: 29.962962962962962\n",
            "Mean for women: 18.799999999999997\n"
          ]
        }
      ]
    },
    {
      "cell_type": "code",
      "source": [
        "MSE_male_adults = mean_squared_error(y_test_male_adults, y_pred_male_adults)\n",
        "print(f'MSE for men: {MSE_male_adults}')\n",
        "#MSE_male_child = mean_squared_error(y_test_male_child, y_pred_male_child)\n",
        "#print(f'MSE for boys: {MSE_male_child}')\n",
        "MSE_female_adults = mean_squared_error(y_test_female_adults, y_pred_female_adults)\n",
        "print(f'MSE for women: {MSE_female_adults}')\n",
        "#MSE_female_child = mean_squared_error(y_test_female_child, y_pred_female_child)\n",
        "#print(f'MSE for girls: {MSE_female_child}')"
      ],
      "metadata": {
        "colab": {
          "base_uri": "https://localhost:8080/"
        },
        "id": "lTT1pZeeDPyi",
        "outputId": "cd220b2c-900d-426e-aab1-cbbdea711b41"
      },
      "execution_count": null,
      "outputs": [
        {
          "output_type": "stream",
          "name": "stdout",
          "text": [
            "MSE for men: 50.40997833252186\n",
            "MSE for women: 59.236111089918566\n"
          ]
        }
      ]
    },
    {
      "cell_type": "code",
      "source": [
        "MAE_male_adults = mean_absolute_error(y_test_male_adults, y_pred_male_adults)\n",
        "print(f'MAE for men: {MAE_male_adults}')\n",
        "#MAE_male_child = mean_absolute_error(y_test_male_child, y_pred_male_child)\n",
        "#print(f'MAE for boys: {MAE_male_child}')\n",
        "MAE_female_adults = mean_absolute_error(y_test_female_adults, y_pred_female_adults)\n",
        "print(f'MAE for women: {MAE_female_adults}')\n",
        "#MAE_female_child = mean_absolute_error(y_test_female_child, y_pred_female_child)\n",
        "#print(f'MAE for girls: {MAE_female_child}')"
      ],
      "metadata": {
        "colab": {
          "base_uri": "https://localhost:8080/"
        },
        "id": "6ohTCGXcDZjk",
        "outputId": "a8b8da15-92a9-45b7-90ac-a3bef0ae2802"
      },
      "execution_count": null,
      "outputs": [
        {
          "output_type": "stream",
          "name": "stdout",
          "text": [
            "MAE for men: 7.099998474121094\n",
            "MAE for women: 6.416666412353516\n"
          ]
        }
      ]
    },
    {
      "cell_type": "code",
      "source": [],
      "metadata": {
        "id": "opvaXzbsDk0B"
      },
      "execution_count": null,
      "outputs": []
    }
  ]
}