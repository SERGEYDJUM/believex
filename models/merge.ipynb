{
 "cells": [
  {
   "cell_type": "code",
   "execution_count": 61,
   "metadata": {},
   "outputs": [
    {
     "name": "stdout",
     "output_type": "stream",
     "text": [
      "opset=21, IR_VERSION=10\n"
     ]
    }
   ],
   "source": [
    "import onnx\n",
    "\n",
    "print(f\"opset={onnx.defs.onnx_opset_version()}, IR_VERSION={onnx.IR_VERSION}\")\n",
    "\n",
    "fa = onnx.load(\"knn_women.onnx\")\n",
    "fc = onnx.load(\"knn_girls.onnx\")\n",
    "ma = onnx.load(\"knn_men.onnx\")\n",
    "mc = onnx.load(\"knn_boys.onnx\")"
   ]
  },
  {
   "cell_type": "code",
   "execution_count": 62,
   "metadata": {},
   "outputs": [],
   "source": [
    "onnx.compose.add_prefix(fa, \"fa_\", inplace=True)\n",
    "onnx.compose.add_prefix(fc, \"fc_\", inplace=True)\n",
    "onnx.compose.add_prefix(ma, \"ma_\", inplace=True)\n",
    "onnx.compose.add_prefix(mc, \"mc_\", inplace=True)\n",
    "\n",
    "merged_f = onnx.compose.merge_models(fa, fc, io_map=[])\n",
    "merged_m = onnx.compose.merge_models(ma, mc, io_map=[])\n",
    "merged = onnx.compose.merge_models(merged_f, merged_m, io_map=[])"
   ]
  },
  {
   "cell_type": "code",
   "execution_count": 63,
   "metadata": {},
   "outputs": [],
   "source": [
    "merged.graph.input[0].name = \"input\"\n",
    "\n",
    "for node in merged.graph.node:\n",
    "    if \"Sc_Scan\" in node.name:\n",
    "        node.input.remove(node.input[0])\n",
    "        node.input.append(merged.graph.input[0].name)\n",
    "\n",
    "merged.graph.input.remove(merged.graph.input[1])\n",
    "merged.graph.input.remove(merged.graph.input[1])\n",
    "merged.graph.input.remove(merged.graph.input[1])\n",
    "\n",
    "\n",
    "# merged = onnx.version_converter.convert_version(merged, 20)\n",
    "onnx.save_model(merged, \"knn_merged.onnx\")"
   ]
  }
 ],
 "metadata": {
  "kernelspec": {
   "display_name": "torch_stable",
   "language": "python",
   "name": "python3"
  },
  "language_info": {
   "codemirror_mode": {
    "name": "ipython",
    "version": 3
   },
   "file_extension": ".py",
   "mimetype": "text/x-python",
   "name": "python",
   "nbconvert_exporter": "python",
   "pygments_lexer": "ipython3",
   "version": "3.12.4"
  }
 },
 "nbformat": 4,
 "nbformat_minor": 2
}
