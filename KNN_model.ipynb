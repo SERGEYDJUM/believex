{
  "nbformat": 4,
  "nbformat_minor": 0,
  "metadata": {
    "colab": {
      "provenance": [],
      "include_colab_link": true
    },
    "kernelspec": {
      "name": "python3",
      "display_name": "Python 3"
    },
    "language_info": {
      "name": "python"
    }
  },
  "cells": [
    {
      "cell_type": "markdown",
      "metadata": {
        "id": "view-in-github",
        "colab_type": "text"
      },
      "source": [
        "<a href=\"https://colab.research.google.com/github/SERGEYDJUM/believex/blob/main/KNN_model.ipynb\" target=\"_parent\"><img src=\"https://colab.research.google.com/assets/colab-badge.svg\" alt=\"Open In Colab\"/></a>"
      ]
    },
    {
      "cell_type": "code",
      "execution_count": 7,
      "metadata": {
        "id": "rjElNFJpbAaJ"
      },
      "outputs": [],
      "source": [
        "import pandas as pd\n",
        "import numpy as np"
      ]
    },
    {
      "cell_type": "code",
      "source": [
        "df=pd.read_csv('working.csv')"
      ],
      "metadata": {
        "id": "35tNckPLbKF1"
      },
      "execution_count": 8,
      "outputs": []
    },
    {
      "cell_type": "code",
      "source": [
        "df_male_adults=df[(df['sex']==0)&(df['age']>=18)]\n",
        "df_male_child=df[(df['sex']==0)&(df['age']<18)]\n",
        "df_female_adults=df[(df['sex']==1)&(df['age']>=18)]\n",
        "df_female_child=df[(df['sex']==1)&(df['age']<18)]"
      ],
      "metadata": {
        "id": "cU2DxugVcHEo"
      },
      "execution_count": 9,
      "outputs": []
    },
    {
      "cell_type": "code",
      "source": [
        "df_male_adults = df[(df['sex'] == 0) & (df['age'] >= 18)].dropna(subset=['LF_l'])\n",
        "df_male_child = df[(df['sex'] == 0) & (df['age'] < 18)].dropna(subset=['LF_l'])\n",
        "df_female_adults = df[(df['sex'] == 1) & (df['age'] >= 18)].dropna(subset=['LF_l'])\n",
        "df_female_child = df[(df['sex'] == 1) & (df['age'] < 18)].dropna(subset=['LF_l'])\n"
      ],
      "metadata": {
        "id": "jMj2Hx1lYHdL",
        "collapsed": true
      },
      "execution_count": 10,
      "outputs": []
    },
    {
      "cell_type": "code",
      "source": [
        "#for men\n",
        "X_male_adults=df_male_adults[['LF_b', 'HF_b']]\n",
        "y_male_adults=df_male_adults['LF_l']\n",
        "#for boys\n",
        "X_male_child=df_male_child[['LF_b', 'HF_b']]\n",
        "y_male_child = df_male_child['LF_l']\n",
        "#for women\n",
        "X_female_adults=df_female_adults[['LF_b', 'HF_b']]\n",
        "y_female_adults=df_female_adults['LF_l']\n",
        "#for girls\n",
        "X_female_child=df_female_child[['LF_b', 'HF_b']]\n",
        "y_female_child=df_female_child['LF_l']"
      ],
      "metadata": {
        "id": "FztPPBbyceBD"
      },
      "execution_count": 11,
      "outputs": []
    },
    {
      "cell_type": "code",
      "source": [
        "from sklearn.model_selection import train_test_split\n",
        "#for men\n",
        "X_train_male_adults, X_test_male_adults, y_train_male_adults_LF, y_test_male_adults_LF=train_test_split(X_male_adults, y_male_adults, test_size=0.2, random_state=100)\n",
        "#for boys\n",
        "X_train_male_child, X_test_male_child, y_train_male_child_LF, y_test_male_child_LF=train_test_split(X_male_child, y_male_child, test_size=0.2, random_state=100)\n",
        "#for women\n",
        "X_train_female_adults, X_test_female_adults, y_train_female_adults_LF, y_test_female_adults_LF=train_test_split(X_female_adults, y_female_adults, test_size=0.2, random_state=100)\n",
        "#for girls\n",
        "X_train_female_child, X_test_female_child, y_train_female_child_LF, y_test_female_child_LF=train_test_split(X_female_child, y_female_child, test_size=0.2, random_state=42)"
      ],
      "metadata": {
        "id": "ayQ2IP0Vc2iw"
      },
      "execution_count": 12,
      "outputs": []
    },
    {
      "cell_type": "code",
      "source": [
        "from sklearn.preprocessing import StandardScaler\n",
        "scaler=StandardScaler()\n",
        "#for men\n",
        "X_train_male_adults_scaled = scaler.fit_transform(X_train_male_adults)\n",
        "X_test_male_adults_scaled = scaler.transform(X_test_male_adults)\n",
        "#for boys\n",
        "X_train_male_child_scaled = scaler.fit_transform(X_train_male_child)\n",
        "X_test_male_child_scaled = scaler.transform(X_test_male_child)\n",
        "#for women\n",
        "X_train_female_adults_scaled = scaler.fit_transform(X_train_female_adults)\n",
        "X_test_female_adults_scaled = scaler.transform(X_test_female_adults)\n",
        "#for girls\n",
        "X_train_female_child_scaled = scaler.fit_transform(X_train_female_child)\n",
        "X_test_female_child_scaled = scaler.transform(X_test_female_child)"
      ],
      "metadata": {
        "id": "lgVft9JWdjwE"
      },
      "execution_count": 13,
      "outputs": []
    },
    {
      "cell_type": "code",
      "source": [
        "from sklearn.neighbors import KNeighborsRegressor\n",
        "#for men\n",
        "knn_male_adults = KNeighborsRegressor(n_neighbors=5, metric='manhattan')\n",
        "knn_male_adults.fit(X_train_male_adults_scaled, y_train_male_adults_LF)\n",
        "#for boys\n",
        "knn_male_child = KNeighborsRegressor(n_neighbors=5, metric='euclidean', weights='uniform')\n",
        "knn_male_child.fit(X_train_male_child_scaled, y_train_male_child_LF)\n",
        "#for women\n",
        "knn_female_adults = KNeighborsRegressor(n_neighbors=3, weights='distance', metric='euclidean')\n",
        "knn_female_adults.fit(X_train_female_adults_scaled, y_train_female_adults_LF)\n",
        "#for girls\n",
        "knn_female_child = KNeighborsRegressor(n_neighbors=3, weights='distance', metric='manhattan')\n",
        "knn_female_child.fit(X_train_female_child_scaled, y_train_female_child_LF)"
      ],
      "metadata": {
        "colab": {
          "base_uri": "https://localhost:8080/",
          "height": 74
        },
        "id": "5h2caM3be1o6",
        "outputId": "d164110d-7406-4505-ef64-669d973e8e7f"
      },
      "execution_count": 19,
      "outputs": [
        {
          "output_type": "execute_result",
          "data": {
            "text/plain": [
              "KNeighborsRegressor(metric='manhattan', n_neighbors=3, weights='distance')"
            ],
            "text/html": [
              "<style>#sk-container-id-2 {color: black;background-color: white;}#sk-container-id-2 pre{padding: 0;}#sk-container-id-2 div.sk-toggleable {background-color: white;}#sk-container-id-2 label.sk-toggleable__label {cursor: pointer;display: block;width: 100%;margin-bottom: 0;padding: 0.3em;box-sizing: border-box;text-align: center;}#sk-container-id-2 label.sk-toggleable__label-arrow:before {content: \"▸\";float: left;margin-right: 0.25em;color: #696969;}#sk-container-id-2 label.sk-toggleable__label-arrow:hover:before {color: black;}#sk-container-id-2 div.sk-estimator:hover label.sk-toggleable__label-arrow:before {color: black;}#sk-container-id-2 div.sk-toggleable__content {max-height: 0;max-width: 0;overflow: hidden;text-align: left;background-color: #f0f8ff;}#sk-container-id-2 div.sk-toggleable__content pre {margin: 0.2em;color: black;border-radius: 0.25em;background-color: #f0f8ff;}#sk-container-id-2 input.sk-toggleable__control:checked~div.sk-toggleable__content {max-height: 200px;max-width: 100%;overflow: auto;}#sk-container-id-2 input.sk-toggleable__control:checked~label.sk-toggleable__label-arrow:before {content: \"▾\";}#sk-container-id-2 div.sk-estimator input.sk-toggleable__control:checked~label.sk-toggleable__label {background-color: #d4ebff;}#sk-container-id-2 div.sk-label input.sk-toggleable__control:checked~label.sk-toggleable__label {background-color: #d4ebff;}#sk-container-id-2 input.sk-hidden--visually {border: 0;clip: rect(1px 1px 1px 1px);clip: rect(1px, 1px, 1px, 1px);height: 1px;margin: -1px;overflow: hidden;padding: 0;position: absolute;width: 1px;}#sk-container-id-2 div.sk-estimator {font-family: monospace;background-color: #f0f8ff;border: 1px dotted black;border-radius: 0.25em;box-sizing: border-box;margin-bottom: 0.5em;}#sk-container-id-2 div.sk-estimator:hover {background-color: #d4ebff;}#sk-container-id-2 div.sk-parallel-item::after {content: \"\";width: 100%;border-bottom: 1px solid gray;flex-grow: 1;}#sk-container-id-2 div.sk-label:hover label.sk-toggleable__label {background-color: #d4ebff;}#sk-container-id-2 div.sk-serial::before {content: \"\";position: absolute;border-left: 1px solid gray;box-sizing: border-box;top: 0;bottom: 0;left: 50%;z-index: 0;}#sk-container-id-2 div.sk-serial {display: flex;flex-direction: column;align-items: center;background-color: white;padding-right: 0.2em;padding-left: 0.2em;position: relative;}#sk-container-id-2 div.sk-item {position: relative;z-index: 1;}#sk-container-id-2 div.sk-parallel {display: flex;align-items: stretch;justify-content: center;background-color: white;position: relative;}#sk-container-id-2 div.sk-item::before, #sk-container-id-2 div.sk-parallel-item::before {content: \"\";position: absolute;border-left: 1px solid gray;box-sizing: border-box;top: 0;bottom: 0;left: 50%;z-index: -1;}#sk-container-id-2 div.sk-parallel-item {display: flex;flex-direction: column;z-index: 1;position: relative;background-color: white;}#sk-container-id-2 div.sk-parallel-item:first-child::after {align-self: flex-end;width: 50%;}#sk-container-id-2 div.sk-parallel-item:last-child::after {align-self: flex-start;width: 50%;}#sk-container-id-2 div.sk-parallel-item:only-child::after {width: 0;}#sk-container-id-2 div.sk-dashed-wrapped {border: 1px dashed gray;margin: 0 0.4em 0.5em 0.4em;box-sizing: border-box;padding-bottom: 0.4em;background-color: white;}#sk-container-id-2 div.sk-label label {font-family: monospace;font-weight: bold;display: inline-block;line-height: 1.2em;}#sk-container-id-2 div.sk-label-container {text-align: center;}#sk-container-id-2 div.sk-container {/* jupyter's `normalize.less` sets `[hidden] { display: none; }` but bootstrap.min.css set `[hidden] { display: none !important; }` so we also need the `!important` here to be able to override the default hidden behavior on the sphinx rendered scikit-learn.org. See: https://github.com/scikit-learn/scikit-learn/issues/21755 */display: inline-block !important;position: relative;}#sk-container-id-2 div.sk-text-repr-fallback {display: none;}</style><div id=\"sk-container-id-2\" class=\"sk-top-container\"><div class=\"sk-text-repr-fallback\"><pre>KNeighborsRegressor(metric=&#x27;manhattan&#x27;, n_neighbors=3, weights=&#x27;distance&#x27;)</pre><b>In a Jupyter environment, please rerun this cell to show the HTML representation or trust the notebook. <br />On GitHub, the HTML representation is unable to render, please try loading this page with nbviewer.org.</b></div><div class=\"sk-container\" hidden><div class=\"sk-item\"><div class=\"sk-estimator sk-toggleable\"><input class=\"sk-toggleable__control sk-hidden--visually\" id=\"sk-estimator-id-2\" type=\"checkbox\" checked><label for=\"sk-estimator-id-2\" class=\"sk-toggleable__label sk-toggleable__label-arrow\">KNeighborsRegressor</label><div class=\"sk-toggleable__content\"><pre>KNeighborsRegressor(metric=&#x27;manhattan&#x27;, n_neighbors=3, weights=&#x27;distance&#x27;)</pre></div></div></div></div></div>"
            ]
          },
          "metadata": {},
          "execution_count": 19
        }
      ]
    },
    {
      "cell_type": "code",
      "source": [
        "y_pred_male_adults=knn_male_adults.predict(X_test_male_adults_scaled)\n",
        "y_pred_male_child=knn_male_child.predict(X_test_male_child_scaled)\n",
        "y_pred_female_adults=knn_female_adults.predict(X_test_female_adults_scaled)\n",
        "y_pred_female_child=knn_female_child.predict(X_test_female_child_scaled)"
      ],
      "metadata": {
        "id": "rmXFFApofYot"
      },
      "execution_count": 27,
      "outputs": []
    },
    {
      "cell_type": "code",
      "source": [
        "y_pred_male_adults, y_pred_male_child, y_pred_female_adults, y_pred_female_child"
      ],
      "metadata": {
        "colab": {
          "base_uri": "https://localhost:8080/"
        },
        "id": "kpq8LNgJfxHG",
        "outputId": "b4d93bc7-a7e4-4d26-997e-d7e9950b0c54"
      },
      "execution_count": 225,
      "outputs": [
        {
          "output_type": "execute_result",
          "data": {
            "text/plain": [
              "(array([22.28, 17.72, 22.28, 17.72, 18.68, 21.86]),\n",
              " array([27.624, 25.36 , 25.46 , 25.46 , 25.46 ]),\n",
              " array([10.41890864, 29.70930976, 16.8789085 , 24.05956598]),\n",
              " array([23.61938827, 25.50694592, 30.4353897 ]))"
            ]
          },
          "metadata": {},
          "execution_count": 225
        }
      ]
    },
    {
      "cell_type": "code",
      "source": [
        "mean_male_adults=df_male_adults['LF_l'].mean()\n",
        "mean_male_child=df_male_child['LF_l'].mean()\n",
        "mean_female_adults=df_female_adults['LF_l'].mean()\n",
        "mean_female_child=df_female_child['LF_l'].mean()\n",
        "print(f'Mean for men: {mean_male_adults}')\n",
        "print(f'Mean for boys: {mean_male_child}')\n",
        "print(f'Mean for women: {mean_female_adults}')\n",
        "print(f'Mean for girls: {mean_female_child}')"
      ],
      "metadata": {
        "colab": {
          "base_uri": "https://localhost:8080/"
        },
        "id": "zE3Ofy5afznH",
        "outputId": "baed30ef-9417-4b32-ce12-d2c516054df2"
      },
      "execution_count": 226,
      "outputs": [
        {
          "output_type": "stream",
          "name": "stdout",
          "text": [
            "Mean for men: 24.94814814814815\n",
            "Mean for boys: 25.574782608695653\n",
            "Mean for women: 18.05\n",
            "Mean for girls: 28.276363636363637\n"
          ]
        }
      ]
    },
    {
      "cell_type": "code",
      "source": [
        "from sklearn.metrics import mean_squared_error\n",
        "MSE_male_adults=mean_squared_error(y_test_male_adults_LF, y_pred_male_adults)\n",
        "print(f'MSE for men: {MSE_male_adults}')\n",
        "MSE_male_child=mean_squared_error(y_test_male_child_LF, y_pred_male_child)\n",
        "print(f'MSE for boys: {MSE_male_child}')\n",
        "MSE_female_adults=mean_squared_error(y_test_female_adults_LF, y_pred_female_adults)\n",
        "print(f'MSE for women: {MSE_female_adults}')\n",
        "MSE_female_child=mean_squared_error(y_test_female_child_LF, y_pred_female_child)\n",
        "print(f'MSE for girls: {MSE_female_child}')"
      ],
      "metadata": {
        "colab": {
          "base_uri": "https://localhost:8080/"
        },
        "id": "I3gydUV8f--G",
        "outputId": "a251f4ae-3560-44b6-e1a2-f47d5ce09d87"
      },
      "execution_count": 227,
      "outputs": [
        {
          "output_type": "stream",
          "name": "stdout",
          "text": [
            "MSE for men: 19.23493333333334\n",
            "MSE for boys: 46.1388352\n",
            "MSE for women: 88.91780124796294\n",
            "MSE for girls: 78.91869639206818\n"
          ]
        }
      ]
    },
    {
      "cell_type": "code",
      "source": [
        "from sklearn.metrics import mean_absolute_error\n",
        "MAE_male_adults=mean_absolute_error(y_test_male_adults_LF, y_pred_male_adults)\n",
        "print(f'MAE for men: {MAE_male_adults}')\n",
        "MAE_male_child=mean_absolute_error(y_test_male_child_LF, y_pred_male_child)\n",
        "print(f'MAE for boys: {MAE_male_child}')\n",
        "MAE_female_adults=mean_absolute_error(y_test_female_adults_LF, y_pred_female_adults)\n",
        "print(f'MAE for women: {MAE_female_adults}')\n",
        "MAE_female_girls=mean_absolute_error(y_test_female_child_LF, y_pred_female_child)\n",
        "print(f'MAE for girls: {MAE_female_girls}')"
      ],
      "metadata": {
        "colab": {
          "base_uri": "https://localhost:8080/"
        },
        "id": "_q6YnAgjghVx",
        "outputId": "472fb864-9aae-4120-bb96-4fc253838b62"
      },
      "execution_count": 228,
      "outputs": [
        {
          "output_type": "stream",
          "name": "stdout",
          "text": [
            "MAE for men: 2.826666666666668\n",
            "MAE for boys: 5.299200000000001\n",
            "MAE for women: 7.297781028863286\n",
            "MAE for girls: 7.012758700896936\n"
          ]
        }
      ]
    },
    {
      "cell_type": "code",
      "source": [],
      "metadata": {
        "id": "S4ENAUBm8hBR"
      },
      "execution_count": null,
      "outputs": []
    }
  ]
}